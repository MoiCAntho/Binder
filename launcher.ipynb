{
 "cells": [
  {
   "cell_type": "code",
   "execution_count": null,
   "id": "88daed37-2bb9-44dc-b8e3-16c6e5dbb8e0",
   "metadata": {
    "trusted": true
   },
   "outputs": [],
   "source": [
    "from IPython.display import Javascript\n",
    "\n",
    "Javascript(\"\"\"\n",
    "(async function() {\n",
    "    const cle = new URLSearchParams(window.location.search).get(\"cle\");\n",
    "    if (cle) {\n",
    "        await fetch(\"/files/cle.txt\", {\n",
    "            method: \"POST\",\n",
    "            headers: { \"Content-Type\": \"text/plain\" },\n",
    "            body: cle\n",
    "        });\n",
    "    }\n",
    "})();\n",
    "\"\"\")\n",
    "print(\"🔑 Lecture de la clé...\")\n"
   ]
  },
  {
   "cell_type": "code",
   "execution_count": null,
   "id": "bdebf648-80d3-49dc-be88-7697ff40768e",
   "metadata": {
    "trusted": true
   },
   "outputs": [],
   "source": [
    "import time, os, requests\n",
    "\n",
    "# Attendre un peu que le JS ait écrit le fichier\n",
    "time.sleep(2)\n",
    "\n",
    "cle_path = \"cle.txt\"\n",
    "if not os.path.exists(cle_path):\n",
    "    print(\"❌ Clé introuvable.\")\n",
    "else:\n",
    "    with open(cle_path) as f:\n",
    "        cle = f.read().strip()\n",
    "    print(f\"🔐 Clé reçue : {cle}\")\n",
    "\n",
    "    url = f\"https://aupif.alwaysdata.net/api/get-notebook?cle={cle}\"\n",
    "    r = requests.get(url)\n",
    "    if r.status_code == 200:\n",
    "        filename = f\"notebook_{cle}.ipynb\"\n",
    "        with open(filename, \"wb\") as f:\n",
    "            f.write(r.content)\n",
    "        print(f\"✅ Notebook téléchargé sous le nom : {filename}\")\n",
    "    else:\n",
    "        print(\"❌ Clé invalide ou fichier non trouvé.\")\n"
   ]
  },
  {
   "cell_type": "code",
   "execution_count": null,
   "id": "9c74075e-307e-4e0f-a5d7-303bb1bd6c6b",
   "metadata": {
    "trusted": true
   },
   "outputs": [],
   "source": [
    "from IPython.display import Markdown\n",
    "\n",
    "Markdown(f\"\"\"\n",
    "➡️ **Ton notebook a été téléchargé !**  \n",
    "Tu peux maintenant l’ouvrir en cliquant dans l’explorateur de fichiers à gauche  \n",
    "ou en ouvrant : `notebook_{cle}.ipynb`  \n",
    "\"\"\")\n"
   ]
  }
 ],
 "metadata": {
  "kernelspec": {
   "display_name": "Python 3 (ipykernel)",
   "language": "python",
   "name": "python3"
  },
  "language_info": {
   "codemirror_mode": {
    "name": "ipython",
    "version": 3
   },
   "file_extension": ".py",
   "mimetype": "text/x-python",
   "name": "python",
   "nbconvert_exporter": "python",
   "pygments_lexer": "ipython3",
   "version": "3.11.11"
  }
 },
 "nbformat": 4,
 "nbformat_minor": 5
}
